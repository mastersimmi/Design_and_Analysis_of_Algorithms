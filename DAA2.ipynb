{
  "nbformat": 4,
  "nbformat_minor": 0,
  "metadata": {
    "colab": {
      "provenance": [],
      "authorship_tag": "ABX9TyPGce/Y9/HzRQnLVXrnMfhA",
      "include_colab_link": true
    },
    "kernelspec": {
      "name": "python3",
      "display_name": "Python 3"
    },
    "language_info": {
      "name": "python"
    }
  },
  "cells": [
    {
      "cell_type": "markdown",
      "metadata": {
        "id": "view-in-github",
        "colab_type": "text"
      },
      "source": [
        "<a href=\"https://colab.research.google.com/github/mastersimmi/Design_and_Analysis_of_Algorithms/blob/main/DAA2.ipynb\" target=\"_parent\"><img src=\"https://colab.research.google.com/assets/colab-badge.svg\" alt=\"Open In Colab\"/></a>"
      ]
    },
    {
      "cell_type": "markdown",
      "source": [
        "**Write a program non-recursive and recursive program to calculate Fibonacci numbers and analyze their time and space complexity.**"
      ],
      "metadata": {
        "id": "AEBgUDtFMLm5"
      }
    },
    {
      "cell_type": "code",
      "execution_count": 29,
      "metadata": {
        "colab": {
          "base_uri": "https://localhost:8080/"
        },
        "id": "AxkXk-V_FgOG",
        "outputId": "a40f0215-6d40-4b15-cf6f-d9d946dbb2f4"
      },
      "outputs": [
        {
          "output_type": "stream",
          "name": "stdout",
          "text": [
            "[0, 1, 1, 2, 3, 5, 8, 13, 21, 34]\n"
          ]
        }
      ],
      "source": [
        "def fibonacci(n):\n",
        "    if n <= 0:\n",
        "        return \"Invalid input. Please enter a positive integer.\"\n",
        "    elif n == 1:\n",
        "        return 0\n",
        "    elif n == 2:\n",
        "        return 1\n",
        "    else:\n",
        "        fib_list = [0, 1]\n",
        "        for i in range(2, n):\n",
        "            next_fib = fib_list[-1] + fib_list[-2]\n",
        "            fib_list.append(next_fib)\n",
        "        return fib_list\n",
        "\n",
        "# Test the function\n",
        "num_terms = 10\n",
        "result = fibonacci(num_terms)\n",
        "print(result)\n"
      ]
    },
    {
      "cell_type": "code",
      "source": [
        "def fibonacci(n):\n",
        "    if n <= 0:\n",
        "        return \"Invalid input. Please enter a positive integer.\"\n",
        "    elif n == 1:\n",
        "        return 0\n",
        "    elif n == 2:\n",
        "        return 1\n",
        "    else:\n",
        "        fib_list = [0, 1]\n",
        "        for i in range(2, n):\n",
        "            next_fib = fib_list[-1] + fib_list[-2]\n",
        "            fib_list.append(next_fib)\n",
        "        return fib_list\n",
        "\n",
        "# Take user input for the number of terms\n",
        "num_terms = int(input(\"Enter the number of Fibonacci terms to calculate: \"))\n",
        "result = fibonacci(num_terms)\n",
        "print(result)\n"
      ],
      "metadata": {
        "colab": {
          "base_uri": "https://localhost:8080/",
          "height": 252
        },
        "id": "w7cskecALhMq",
        "outputId": "365cefd1-4c80-425d-fc9d-7a952456bec0"
      },
      "execution_count": 30,
      "outputs": [
        {
          "name": "stdout",
          "output_type": "stream",
          "text": [
            "Enter the number of Fibonacci terms to calculate: \n"
          ]
        },
        {
          "output_type": "error",
          "ename": "ValueError",
          "evalue": "ignored",
          "traceback": [
            "\u001b[0;31m---------------------------------------------------------------------------\u001b[0m",
            "\u001b[0;31mValueError\u001b[0m                                Traceback (most recent call last)",
            "\u001b[0;32m<ipython-input-30-630ed30aba66>\u001b[0m in \u001b[0;36m<cell line: 16>\u001b[0;34m()\u001b[0m\n\u001b[1;32m     14\u001b[0m \u001b[0;34m\u001b[0m\u001b[0m\n\u001b[1;32m     15\u001b[0m \u001b[0;31m# Take user input for the number of terms\u001b[0m\u001b[0;34m\u001b[0m\u001b[0;34m\u001b[0m\u001b[0m\n\u001b[0;32m---> 16\u001b[0;31m \u001b[0mnum_terms\u001b[0m \u001b[0;34m=\u001b[0m \u001b[0mint\u001b[0m\u001b[0;34m(\u001b[0m\u001b[0minput\u001b[0m\u001b[0;34m(\u001b[0m\u001b[0;34m\"Enter the number of Fibonacci terms to calculate: \"\u001b[0m\u001b[0;34m)\u001b[0m\u001b[0;34m)\u001b[0m\u001b[0;34m\u001b[0m\u001b[0;34m\u001b[0m\u001b[0m\n\u001b[0m\u001b[1;32m     17\u001b[0m \u001b[0mresult\u001b[0m \u001b[0;34m=\u001b[0m \u001b[0mfibonacci\u001b[0m\u001b[0;34m(\u001b[0m\u001b[0mnum_terms\u001b[0m\u001b[0;34m)\u001b[0m\u001b[0;34m\u001b[0m\u001b[0;34m\u001b[0m\u001b[0m\n\u001b[1;32m     18\u001b[0m \u001b[0mprint\u001b[0m\u001b[0;34m(\u001b[0m\u001b[0mresult\u001b[0m\u001b[0;34m)\u001b[0m\u001b[0;34m\u001b[0m\u001b[0;34m\u001b[0m\u001b[0m\n",
            "\u001b[0;31mValueError\u001b[0m: invalid literal for int() with base 10: ''"
          ]
        }
      ]
    },
    {
      "cell_type": "code",
      "source": [
        "def fibonacci_non_rec(n):\n",
        "    if n <= 0:\n",
        "        return \"Invalid input\"\n",
        "\n",
        "    if n == 1:\n",
        "        return 0\n",
        "\n",
        "    if n == 2:\n",
        "        return 1\n",
        "\n",
        "    prev, curr = 0, 1\n",
        "    for _ in range(3, n+1):\n",
        "        prev, curr = curr, prev + curr\n",
        "\n",
        "    return curr\n",
        "\n",
        "n = 10\n",
        "print(\"Fibonacci(\", n, \") =\", fibonacci_non_rec(n))\n"
      ],
      "metadata": {
        "id": "uKbL-ICQLWX9"
      },
      "execution_count": null,
      "outputs": []
    },
    {
      "cell_type": "code",
      "source": [
        "def fibonacci_rec(n):\n",
        "    if n <= 0:\n",
        "        return \"Invalid input\"\n",
        "\n",
        "    if n == 1:\n",
        "        return 0\n",
        "\n",
        "    if n == 2:\n",
        "        return 1\n",
        "\n",
        "    return fibonacci_rec(n-1) + fibonacci_rec(n-2)\n",
        "\n",
        "\n",
        "n = 10\n",
        "print(\"Fibonacci(\", n, \") =\", fibonacci_rec(n))\n"
      ],
      "metadata": {
        "colab": {
          "base_uri": "https://localhost:8080/"
        },
        "id": "urc5B8wVFpLd",
        "outputId": "05a45929-528e-457a-ca91-75fcb213fd0b"
      },
      "execution_count": 31,
      "outputs": [
        {
          "output_type": "stream",
          "name": "stdout",
          "text": [
            "Fibonacci( 10 ) = 34\n"
          ]
        }
      ]
    },
    {
      "cell_type": "code",
      "source": [],
      "metadata": {
        "id": "KZtinBn-Fsw1"
      },
      "execution_count": 24,
      "outputs": []
    },
    {
      "cell_type": "code",
      "source": [],
      "metadata": {
        "id": "ZEY3gWh-GAhf"
      },
      "execution_count": 6,
      "outputs": []
    },
    {
      "cell_type": "code",
      "source": [],
      "metadata": {
        "id": "utBljaOsGOFJ"
      },
      "execution_count": 6,
      "outputs": []
    },
    {
      "cell_type": "code",
      "source": [],
      "metadata": {
        "id": "7a05ZBVpGQ5o"
      },
      "execution_count": null,
      "outputs": []
    }
  ]
}