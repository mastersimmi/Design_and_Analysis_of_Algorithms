{
  "nbformat": 4,
  "nbformat_minor": 0,
  "metadata": {
    "colab": {
      "provenance": [],
      "authorship_tag": "ABX9TyMYp8MQVf8iYX3DUeXLy4IS",
      "include_colab_link": true
    },
    "kernelspec": {
      "name": "python3",
      "display_name": "Python 3"
    },
    "language_info": {
      "name": "python"
    }
  },
  "cells": [
    {
      "cell_type": "markdown",
      "metadata": {
        "id": "view-in-github",
        "colab_type": "text"
      },
      "source": [
        "<a href=\"https://colab.research.google.com/github/mastersimmi/Design_and_Analysis_of_Algorithms/blob/main/DAA2.ipynb\" target=\"_parent\"><img src=\"https://colab.research.google.com/assets/colab-badge.svg\" alt=\"Open In Colab\"/></a>"
      ]
    },
    {
      "cell_type": "code",
      "execution_count": 14,
      "metadata": {
        "colab": {
          "base_uri": "https://localhost:8080/"
        },
        "id": "AxkXk-V_FgOG",
        "outputId": "3a88f1a0-ce1b-4772-98ac-0c8fd563d80a"
      },
      "outputs": [
        {
          "output_type": "stream",
          "name": "stdout",
          "text": [
            "Fibonacci( 10 ) = 34\n"
          ]
        }
      ],
      "source": [
        "def fibonacci_non_rec(n):\n",
        "    if n <= 0:\n",
        "        return \"Invalid input\"\n",
        "\n",
        "    if n == 1:\n",
        "        return 0\n",
        "\n",
        "    if n == 2:\n",
        "        return 1\n",
        "\n",
        "    prev, curr = 0, 1\n",
        "    for _ in range(3, n+1):\n",
        "        prev, curr = curr, prev + curr\n",
        "\n",
        "    return curr\n",
        "\n",
        "n = 10\n",
        "print(\"Fibonacci(\", n, \") =\", fibonacci_non_rec(n))\n"
      ]
    },
    {
      "cell_type": "code",
      "source": [
        "def fibonacci_recursive(n):\n",
        "    if n <= 0:\n",
        "        return \"Invalid input\"\n",
        "\n",
        "    if n == 1:\n",
        "        return 0\n",
        "\n",
        "    if n == 2:\n",
        "        return 1\n",
        "\n",
        "    return fibonacci_recursive(n-1) + fibonacci_recursive(n-2)\n",
        "\n",
        "\n",
        "n = 10\n",
        "print(\"Fibonacci(\", n, \") =\", fibonacci_recursive(n))\n"
      ],
      "metadata": {
        "colab": {
          "base_uri": "https://localhost:8080/"
        },
        "id": "urc5B8wVFpLd",
        "outputId": "9ecc02ba-63c3-47c2-e1e1-49d34d662d24"
      },
      "execution_count": 13,
      "outputs": [
        {
          "output_type": "stream",
          "name": "stdout",
          "text": [
            "Fibonacci( 10 ) = 34\n"
          ]
        }
      ]
    },
    {
      "cell_type": "code",
      "source": [],
      "metadata": {
        "colab": {
          "base_uri": "https://localhost:8080/"
        },
        "id": "KZtinBn-Fsw1",
        "outputId": "39709f58-2d4a-4147-abb5-6e0fd5e52063"
      },
      "execution_count": 11,
      "outputs": [
        {
          "output_type": "stream",
          "name": "stdout",
          "text": [
            "Fibonacci sequence: [0, 1, 1, 2, 3, 5, 8, 13, 21, 34]\n"
          ]
        }
      ]
    },
    {
      "cell_type": "code",
      "source": [],
      "metadata": {
        "id": "ZEY3gWh-GAhf"
      },
      "execution_count": 6,
      "outputs": []
    },
    {
      "cell_type": "code",
      "source": [],
      "metadata": {
        "id": "utBljaOsGOFJ"
      },
      "execution_count": 6,
      "outputs": []
    },
    {
      "cell_type": "code",
      "source": [],
      "metadata": {
        "id": "7a05ZBVpGQ5o"
      },
      "execution_count": null,
      "outputs": []
    }
  ]
}