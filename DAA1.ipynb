{
  "nbformat": 4,
  "nbformat_minor": 0,
  "metadata": {
    "colab": {
      "provenance": [],
      "authorship_tag": "ABX9TyN1w1M7q8UJWX622v0BZJK8",
      "include_colab_link": true
    },
    "kernelspec": {
      "name": "python3",
      "display_name": "Python 3"
    },
    "language_info": {
      "name": "python"
    }
  },
  "cells": [
    {
      "cell_type": "markdown",
      "metadata": {
        "id": "view-in-github",
        "colab_type": "text"
      },
      "source": [
        "<a href=\"https://colab.research.google.com/github/mastersimmi/Design_and_Analysis_of_Algorithms/blob/main/DAA1.ipynb\" target=\"_parent\"><img src=\"https://colab.research.google.com/assets/colab-badge.svg\" alt=\"Open In Colab\"/></a>"
      ]
    },
    {
      "cell_type": "code",
      "execution_count": null,
      "metadata": {
        "id": "4oFUXh6s_LkG"
      },
      "outputs": [],
      "source": [
        "a = [[1, 2, 3], [5, 6], [7, 8, 9]]\n",
        "#b = [['simmi','master'],['noor0w','malik']]\n",
        "b = [[3, 4, 1], [1, 4], [1, 3, 6]]"
      ]
    },
    {
      "cell_type": "code",
      "source": [
        "for i in range(len(a)):\n",
        "    for j in range(len(a[i])):\n",
        "        print(a[i][j], end=' ')\n",
        "    print()"
      ],
      "metadata": {
        "colab": {
          "base_uri": "https://localhost:8080/"
        },
        "id": "H3efCr--_mgA",
        "outputId": "7028a2d9-ca56-4136-94e2-2a4b13749180"
      },
      "execution_count": null,
      "outputs": [
        {
          "output_type": "stream",
          "name": "stdout",
          "text": [
            "1 2 3 \n",
            "5 6 \n",
            "7 8 9 \n"
          ]
        }
      ]
    },
    {
      "cell_type": "code",
      "source": [
        "for i in range(len(b)):\n",
        "    for j in range(len(b[i])):\n",
        "        print(b[i][j], end=' ')\n",
        "    print()"
      ],
      "metadata": {
        "colab": {
          "base_uri": "https://localhost:8080/"
        },
        "id": "bLCJE0W8ACxA",
        "outputId": "84b2fea7-9c9f-414d-8013-3927f24e5cd8"
      },
      "execution_count": null,
      "outputs": [
        {
          "output_type": "stream",
          "name": "stdout",
          "text": [
            "3 4 1 \n",
            "1 4 \n",
            "1 3 6 \n"
          ]
        }
      ]
    },
    {
      "cell_type": "code",
      "source": [],
      "metadata": {
        "id": "RhkEzn-eBVnv"
      },
      "execution_count": null,
      "outputs": []
    },
    {
      "cell_type": "code",
      "source": [
        "result = [[a[i][j] + b[i][j] for j in range(len(a[i]))] for i in range(len(a))]\n",
        "\n",
        "print(\"Resultant:\")\n",
        "for row in result:\n",
        "    print(row)\n",
        "\n",
        "\n",
        "\n",
        "\n",
        "\n"
      ],
      "metadata": {
        "colab": {
          "base_uri": "https://localhost:8080/"
        },
        "id": "s8L6xKLtBsnO",
        "outputId": "93988e55-ea5e-446a-f786-1892fada9950"
      },
      "execution_count": null,
      "outputs": [
        {
          "output_type": "stream",
          "name": "stdout",
          "text": [
            "Resultant:\n",
            "[4, 6, 4]\n",
            "[6, 10]\n",
            "[8, 11, 15]\n"
          ]
        }
      ]
    },
    {
      "cell_type": "code",
      "source": [],
      "metadata": {
        "id": "Rdx0HY-gEFuF"
      },
      "execution_count": null,
      "outputs": []
    }
  ]
}